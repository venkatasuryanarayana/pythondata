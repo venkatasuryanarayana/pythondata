{
 "cells": [
  {
   "cell_type": "code",
   "execution_count": 1,
   "metadata": {},
   "outputs": [
    {
     "name": "stdout",
     "output_type": "stream",
     "text": [
      "Good morning\n"
     ]
    }
   ],
   "source": [
    "print(\"Good morning\")"
   ]
  },
  {
   "cell_type": "code",
   "execution_count": 2,
   "metadata": {},
   "outputs": [
    {
     "name": "stdout",
     "output_type": "stream",
     "text": [
      "welcome to apssdc\n"
     ]
    }
   ],
   "source": [
    "print(\"welcome to apssdc\")"
   ]
  },
  {
   "cell_type": "code",
   "execution_count": 3,
   "metadata": {},
   "outputs": [
    {
     "data": {
      "text/plain": [
       "50"
      ]
     },
     "execution_count": 3,
     "metadata": {},
     "output_type": "execute_result"
    }
   ],
   "source": [
    "50"
   ]
  },
  {
   "cell_type": "code",
   "execution_count": 4,
   "metadata": {},
   "outputs": [
    {
     "name": "stdout",
     "output_type": "stream",
     "text": [
      "A value is : 10\n",
      "B value is: 20\n",
      "Adittion of a and b is: 30\n"
     ]
    }
   ],
   "source": [
    "a=10\n",
    "print(\"A value is :\",a)\n",
    "b=20\n",
    "print(\"B value is:\",b)\n",
    "c=a+b\n",
    "print(\"Adittion of a and b is:\",c)"
   ]
  },
  {
   "cell_type": "code",
   "execution_count": null,
   "metadata": {},
   "outputs": [],
   "source": []
  },
  {
   "cell_type": "code",
   "execution_count": 5,
   "metadata": {
    "scrolled": true
   },
   "outputs": [
    {
     "name": "stdout",
     "output_type": "stream",
     "text": [
      "3453452352352\n",
      "haiii\n"
     ]
    },
    {
     "data": {
      "text/plain": [
       "36546757"
      ]
     },
     "execution_count": 5,
     "metadata": {},
     "output_type": "execute_result"
    }
   ],
   "source": [
    "3453452352352\n",
    "\n",
    "print(3453452352352)\n",
    "print(\"haiii\")\n",
    "\n",
    "36546757"
   ]
  },
  {
   "cell_type": "code",
   "execution_count": null,
   "metadata": {},
   "outputs": [],
   "source": []
  },
  {
   "cell_type": "code",
   "execution_count": null,
   "metadata": {},
   "outputs": [],
   "source": []
  },
  {
   "cell_type": "code",
   "execution_count": 11,
   "metadata": {},
   "outputs": [
    {
     "data": {
      "text/plain": [
       "'surya'"
      ]
     },
     "execution_count": 11,
     "metadata": {},
     "output_type": "execute_result"
    }
   ],
   "source": [
    "\"surya\""
   ]
  },
  {
   "cell_type": "code",
   "execution_count": 1,
   "metadata": {},
   "outputs": [
    {
     "name": "stdout",
     "output_type": "stream",
     "text": [
      "hello\n"
     ]
    }
   ],
   "source": [
    "print(\"hello\")"
   ]
  },
  {
   "cell_type": "markdown",
   "metadata": {},
   "source": [
    "# markdown text\n",
    "## hello\n",
    "###### haii\n",
    "\n",
    "*text*<br>\n",
    "**data**<br>\n",
    "***python***\n",
    "\n",
    "* list\n",
    "    * sublist1\n",
    "        * sublist2\n",
    "            * sublist3\n",
    "\n",
    ">1.list1<br>\n",
    ">2.list2<br>\n",
    ">3.list3"
   ]
  },
  {
   "cell_type": "markdown",
   "metadata": {},
   "source": [
    "<h1 style=\"color:red;text-align:center\">heading1</h1>\n",
    "<h3>heading3</h3>\n",
    "<h6>heading6</h6>\n",
    "<hr>\n",
    "<p>cchgvhjgjhggjhgjhgjhghgcgfndgdgfcvbdfgbcbvcfdgf</p>\n",
    "<ul>\n",
    "<li>list1</li>\n",
    "<li>list2</li>\n",
    "<li>list3</li>\n",
    "    </ul>\n",
    "<ol>\n",
    "<li>list1</li>\n",
    "<li>list2</li>\n",
    "<li>list3</li>\n",
    "</ol>\n",
    "\n",
    "<table style=\"border: 2px solid black\">\n",
    "    <tr style=\"border: 2px solid black\">\n",
    "        <th>sno</th>\n",
    "        <th>institute name</th>\n",
    "        <th>Degree</th>\n",
    "        <th>Passout year</th>\n",
    "    </tr>\n",
    "     <tr style=\"border: 2px solid black\">\n",
    "        <td>1</td>\n",
    "        <td>Anits college</td>\n",
    "        <td>B.tech</td>\n",
    "        <td>2021</td>\n",
    "    </tr>\n",
    "    <tr style=\"border: 2px solid black\">\n",
    "        <td>2</td>\n",
    "        <td>Sri chaitanya college</td>\n",
    "        <td>Intermediate</td>\n",
    "        <td>2017</td>\n",
    "    </tr>\n",
    "    <tr style=\"border: 2px solid black\">\n",
    "        <td>3</td>\n",
    "        <td>narayana school</td>\n",
    "        <td>SSC</td>\n",
    "        <td>2016</td>\n",
    "    </tr>\n",
    "</table>\n",
    "\n",
    "<a href=\"https://www.google.com/\">Search anything in google</a>\n",
    "\n",
    "<img style=\"height:200px;width:300px;border:2px solid black;border-radius:50%;box-shadow:4px 5px 6px green;display:block;margin-left:auto\" src=\"s.jpg\" alt=\"picture\">"
   ]
  },
  {
   "cell_type": "code",
   "execution_count": 12,
   "metadata": {},
   "outputs": [
    {
     "name": "stdout",
     "output_type": "stream",
     "text": [
      "22\n",
      "10.0\n"
     ]
    }
   ],
   "source": [
    "a=10\n",
    "type(a)\n",
    "b=22.4\n",
    "type(b)\n",
    "print(int(b))\n",
    "print((float(a)))"
   ]
  },
  {
   "cell_type": "code",
   "execution_count": 16,
   "metadata": {},
   "outputs": [
    {
     "data": {
      "text/plain": [
       "str"
      ]
     },
     "execution_count": 16,
     "metadata": {},
     "output_type": "execute_result"
    }
   ],
   "source": [
    "type(str(int(float(a))))"
   ]
  },
  {
   "cell_type": "code",
   "execution_count": 19,
   "metadata": {},
   "outputs": [
    {
     "data": {
      "text/plain": [
       "70"
      ]
     },
     "execution_count": 19,
     "metadata": {},
     "output_type": "execute_result"
    }
   ],
   "source": [
    "n1=40\n",
    "n1\n",
    "n2=70\n",
    "n2"
   ]
  },
  {
   "cell_type": "code",
   "execution_count": 20,
   "metadata": {},
   "outputs": [
    {
     "name": "stdout",
     "output_type": "stream",
     "text": [
      "10 20 30\n"
     ]
    }
   ],
   "source": [
    "a,b,c=10,20,30\n",
    "print(a,b,c)"
   ]
  },
  {
   "cell_type": "code",
   "execution_count": 22,
   "metadata": {},
   "outputs": [
    {
     "data": {
      "text/plain": [
       "30"
      ]
     },
     "execution_count": 22,
     "metadata": {},
     "output_type": "execute_result"
    }
   ],
   "source": [
    "\n",
    "d"
   ]
  },
  {
   "cell_type": "code",
   "execution_count": 23,
   "metadata": {},
   "outputs": [],
   "source": [
    "x=y=z=w=d\n"
   ]
  },
  {
   "cell_type": "code",
   "execution_count": 27,
   "metadata": {},
   "outputs": [
    {
     "name": "stdout",
     "output_type": "stream",
     "text": [
      "30\n",
      "30\n",
      "30\n"
     ]
    }
   ],
   "source": [
    "print(x)\n",
    "print(y)\n",
    "print(w)"
   ]
  },
  {
   "cell_type": "code",
   "execution_count": 40,
   "metadata": {},
   "outputs": [
    {
     "name": "stdout",
     "output_type": "stream",
     "text": [
      "Enter a value :20\n",
      "Enter b value30\n",
      "<class 'float'>\n",
      "addition of a and b is 50.0\n"
     ]
    }
   ],
   "source": [
    "a=float(input(\"Enter a value :\"))\n",
    "b=float(input(\"Enter b value\"))\n",
    "print(type(a))\n",
    "c=a+b\n",
    "print(\"addition of a and b is\",c)"
   ]
  },
  {
   "cell_type": "code",
   "execution_count": 2,
   "metadata": {},
   "outputs": [
    {
     "name": "stdout",
     "output_type": "stream",
     "text": [
      "5.0\n"
     ]
    }
   ],
   "source": [
    "a=10.5\n",
    "print(a//2) //floor"
   ]
  },
  {
   "cell_type": "code",
   "execution_count": 3,
   "metadata": {},
   "outputs": [
    {
     "name": "stdout",
     "output_type": "stream",
     "text": [
      "100\n"
     ]
    }
   ],
   "source": [
    "a=10\n",
    "print(a**2)"
   ]
  },
  {
   "cell_type": "markdown",
   "metadata": {},
   "source": [
    "# conditional statements\n",
    "    --> To check whether condition is true or false\n",
    "\n",
    "-->if\n",
    "-->if-else\n",
    "-->nested if\n",
    "-->elif\n",
    "\n",
    "\n",
    "-->if --- checks for one case\n",
    "\n",
    "syntax:\n",
    "    if(condition):\n",
    "        //statements\n",
    "        \n",
    "--->if-else ---- checks for 2 cases\n",
    "syntax:\n",
    "if(condition):\n",
    "    //statements\n",
    "else:\n",
    "    //statements\n",
    "    \n",
    "---->nested if --- checks the condition in if it is true then go inner if or else or if else\n",
    "\n",
    "syntax:\n",
    "if(condition1):\n",
    "    //statements\n",
    "    if(condition2):\n",
    "        //statements\n",
    "     else:\n",
    "         //statements\n",
    "else:\n",
    "    //statements\n",
    "    \n",
    "el-if:---->it checks more number of cases\n",
    "\n",
    "syntax:\n",
    "if(condition1):\n",
    "    //statements\n",
    "elif(condition2):\n",
    "    //statements\n",
    "elif(condition3):\n",
    "    //statements\n",
    "    \n",
    "-------\n",
    "--------\n",
    "else:\n",
    "    //statements\n",
    "       \n",
    "\n",
    "\n"
   ]
  },
  {
   "cell_type": "code",
   "execution_count": 1,
   "metadata": {},
   "outputs": [
    {
     "name": "stdout",
     "output_type": "stream",
     "text": [
      "Enter a value:10\n",
      "Enter b value:20\n",
      "b is big\n"
     ]
    }
   ],
   "source": [
    "# biggest of two numbers\n",
    "a=int(input(\"Enter a value:\"))\n",
    "b=int(input(\"Enter b value:\"))\n",
    "if(a>b):\n",
    "    print(\"a is big\")\n",
    "else:\n",
    "    print(\"b is big\")"
   ]
  },
  {
   "cell_type": "code",
   "execution_count": 13,
   "metadata": {},
   "outputs": [
    {
     "name": "stdout",
     "output_type": "stream",
     "text": [
      "50\n",
      "30\n",
      "10\n",
      "30 is bigger than 50 , 10\n"
     ]
    }
   ],
   "source": [
    "# biggest of three numbers\n",
    "a,b,c=int(input(),)\n",
    "b=int(input())\n",
    "c=int(input())\n",
    "if(a>b and a>c):\n",
    "    print(\"{1} is bigger than {0} , {2}\".format(a,b,c))\n",
    "elif(b>c):\n",
    "    print(\"{} is bigger than {},{}\".format(b,a,c))\n",
    "else:\n",
    "    print(\"{} is bigger than {} , {}\".format(c,a,b))   "
   ]
  },
  {
   "cell_type": "code",
   "execution_count": 15,
   "metadata": {},
   "outputs": [
    {
     "name": "stdout",
     "output_type": "stream",
     "text": [
      "Enter the number5\n",
      "5 is ODD\n"
     ]
    }
   ],
   "source": [
    "# even or odd\n",
    "a=int(input(\"Enter the number\"))\n",
    "if(a%2==0):\n",
    "    print(\"{} is EVEN\".format(a))\n",
    "else:\n",
    "    print(\"{} is ODD\".format(a))"
   ]
  },
  {
   "cell_type": "code",
   "execution_count": 17,
   "metadata": {},
   "outputs": [
    {
     "name": "stdout",
     "output_type": "stream",
     "text": [
      "enter lower boundary number 10\n",
      "enter upper boundary number 50\n",
      "enter required number 30\n",
      "30 is in range of 10 and 50\n"
     ]
    }
   ],
   "source": [
    "a=int(input(\"enter lower boundary number \"))\n",
    "b=int(input(\"enter upper boundary number \"))\n",
    "c=int(input(\"enter requir ed number \"))\n",
    "if((c>=a) & (c<=b)):\n",
    " print(\"{} is in range of {} and {}\".format(c,a,b))\n",
    "else:\n",
    " print(\"{} is not in range of {} and {}\".format(c,a,b))"
   ]
  },
  {
   "cell_type": "markdown",
   "metadata": {},
   "source": []
  },
  {
   "cell_type": "code",
   "execution_count": 19,
   "metadata": {},
   "outputs": [
    {
     "name": "stdout",
     "output_type": "stream",
     "text": [
      "enter a year2000\n",
      "2000 is a leap year\n"
     ]
    }
   ],
   "source": [
    "y=int(input(\"enter a year\"))\n",
    "if(y%400==0 or (y%4==0 and y%100!=0)):\n",
    "    print(\"{} is a leap year\".format(y))\n",
    "else:\n",
    "    print(\"{} is not a leap year\".format(y))\n",
    "    "
   ]
  },
  {
   "cell_type": "code",
   "execution_count": 20,
   "metadata": {},
   "outputs": [
    {
     "name": "stdout",
     "output_type": "stream",
     "text": [
      "enter a value2000\n",
      "2000 is not valid\n"
     ]
    }
   ],
   "source": [
    "a=int(input(\"enter a value\"))\n",
    "if(a<=1000):\n",
    "    print(\"{} is valid\".format(a))\n",
    "    if(1000%a==0):\n",
    "        print(\"{} is a factor\".format(a))\n",
    "else:\n",
    "    print(\"{} is not valid\".format(a))"
   ]
  },
  {
   "cell_type": "code",
   "execution_count": 21,
   "metadata": {},
   "outputs": [
    {
     "name": "stdout",
     "output_type": "stream",
     "text": [
      "Both are equal\n"
     ]
    }
   ],
   "source": [
    "n=\"123\"\n",
    "b=123\n",
    "if(str(b)==n):\n",
    "    print(\"Both are equal\")\n",
    "else:\n",
    "    print(\"both are not equal\")"
   ]
  },
  {
   "cell_type": "markdown",
   "metadata": {},
   "source": [
    "for:\n",
    "    syntax:\n",
    "    for iterationvariablename in range(start,stop,stepping): \n",
    "    "
   ]
  },
  {
   "cell_type": "code",
   "execution_count": 34,
   "metadata": {},
   "outputs": [
    {
     "name": "stdout",
     "output_type": "stream",
     "text": [
      "1\n",
      "10\n",
      "1 2 3 4 5 6 7 8 9 10 "
     ]
    }
   ],
   "source": [
    "m=int(input())\n",
    "n=int(input())\n",
    "for i in range(m,n+1):\n",
    "    print(i,end=\" \")"
   ]
  },
  {
   "cell_type": "code",
   "execution_count": 3,
   "metadata": {},
   "outputs": [
    {
     "name": "stdout",
     "output_type": "stream",
     "text": [
      "1\n",
      "10\n",
      "10 9 8 7 6 5 4 3 2 1 "
     ]
    }
   ],
   "source": [
    "m=int(input())\n",
    "n=int(input())\n",
    "for i in range(n,m-1,-1):\n",
    "    print(i,end=\" \")"
   ]
  },
  {
   "cell_type": "code",
   "execution_count": 1,
   "metadata": {},
   "outputs": [
    {
     "name": "stdout",
     "output_type": "stream",
     "text": [
      "1\n",
      "10\n",
      "0 2 4 6 8 10 "
     ]
    }
   ],
   "source": [
    "m=int(input())\n",
    "n=int(input())\n",
    "for i in range(m-1,n+1,2):\n",
    "    print(i,end=\" \")"
   ]
  },
  {
   "cell_type": "code",
   "execution_count": 5,
   "metadata": {},
   "outputs": [
    {
     "name": "stdout",
     "output_type": "stream",
     "text": [
      "1\n",
      "10\n",
      "55\n"
     ]
    }
   ],
   "source": [
    "m=int(input())\n",
    "n=int(input())\n",
    "sum=0\n",
    "for i in range(m,n+1):\n",
    "    sum=sum+i\n",
    "print(sum)"
   ]
  },
  {
   "cell_type": "code",
   "execution_count": 6,
   "metadata": {},
   "outputs": [
    {
     "name": "stdout",
     "output_type": "stream",
     "text": [
      "0\n",
      "10\n",
      "30\n",
      "6\n"
     ]
    }
   ],
   "source": [
    "m=int(input())\n",
    "n=int(input())\n",
    "sum=count=0\n",
    "for i in range(m,n+1,2):\n",
    "    sum=sum+i\n",
    "    count=count+1\n",
    "print(sum)\n",
    "print(count)"
   ]
  },
  {
   "cell_type": "code",
   "execution_count": 10,
   "metadata": {},
   "outputs": [
    {
     "name": "stdout",
     "output_type": "stream",
     "text": [
      "1\n",
      "5\n",
      "9\n",
      "3\n"
     ]
    }
   ],
   "source": [
    "m=int(input())\n",
    "n=int(input())\n",
    "sum=count=0\n",
    "for i in range(m,n+1):\n",
    "    if(i%2!=0):\n",
    "        count=count+1\n",
    "        sum=sum+i\n",
    "print(sum)\n",
    "print(count)\n",
    "    \n",
    "    "
   ]
  },
  {
   "cell_type": "code",
   "execution_count": 17,
   "metadata": {},
   "outputs": [
    {
     "name": "stdout",
     "output_type": "stream",
     "text": [
      "enter a value:10\n",
      "factors of a given number :\n",
      "1\n",
      "2\n",
      "5\n",
      "count= 3\n"
     ]
    }
   ],
   "source": [
    "sum=0\n",
    "count=0\n",
    "n=int(input(\"enter a value:\"))\n",
    "print(\"factors of a given number :\")\n",
    "for i in range(1,(n+1//2),1):\n",
    "    if(n%i==0):\n",
    "        \n",
    "        print(i)\n",
    "        count=count+1\n",
    "print(\"count=\",count)"
   ]
  },
  {
   "cell_type": "markdown",
   "metadata": {},
   "source": [
    "While:\n",
    "    syntax:\n",
    "        intialization\n",
    "        while(condition):\n",
    "            //statements\n",
    "            Incrementation/Decrementation"
   ]
  },
  {
   "cell_type": "code",
   "execution_count": 21,
   "metadata": {},
   "outputs": [
    {
     "name": "stdout",
     "output_type": "stream",
     "text": [
      "10 9 8 7 6 5 4 3 2 1 "
     ]
    }
   ],
   "source": [
    "i=10\n",
    "while(i>=1):\n",
    "    print(i,end=\" \")\n",
    "    i=i-1"
   ]
  },
  {
   "cell_type": "code",
   "execution_count": 22,
   "metadata": {},
   "outputs": [
    {
     "name": "stdout",
     "output_type": "stream",
     "text": [
      "333\n",
      "3\n"
     ]
    }
   ],
   "source": [
    "a=int(input())\n",
    "p=0\n",
    "while(a!=0):\n",
    "    a=a//10\n",
    "    p=p+1\n",
    "print(p)"
   ]
  },
  {
   "cell_type": "code",
   "execution_count": 23,
   "metadata": {},
   "outputs": [
    {
     "name": "stdout",
     "output_type": "stream",
     "text": [
      "enter the required number123\n",
      "321 is the reverse number\n"
     ]
    }
   ],
   "source": [
    "a=int(input(\"enter the required number\"))\n",
    "rev=0\n",
    "while(a!=0):\n",
    " temp=a%10\n",
    " rev=(rev*10)+temp\n",
    " a=a//10\n",
    "print(\"{} is the reverse number\".format(rev))\n"
   ]
  },
  {
   "cell_type": "markdown",
   "metadata": {},
   "source": [
    "Strings:\n",
    "\n",
    "s=\"pythonprogramming\"\n",
    "   0123-------------\n",
    "                   -2-1    "
   ]
  },
  {
   "cell_type": "markdown",
   "metadata": {},
   "source": [
    "# String slicing"
   ]
  },
  {
   "cell_type": "code",
   "execution_count": 7,
   "metadata": {},
   "outputs": [
    {
     "name": "stdout",
     "output_type": "stream",
     "text": [
      "p\n",
      "h\n",
      "g\n",
      "a\n",
      "python\n",
      "programming\n",
      "pythonprogramming\n",
      "\n",
      "gnimmargorpnohtyp\n",
      "gimropotp\n",
      "phpgmn\n",
      "gmrroy\n",
      "17\n",
      "o\n"
     ]
    }
   ],
   "source": [
    "s=\"pythonprogramming\"\n",
    "print(s[0])\n",
    "print(s[3])\n",
    "print(s[-1])\n",
    "print(s[-6])\n",
    "print(s[0:6])\n",
    "print(s[6::])\n",
    "print(s[0::])\n",
    "print(s[-1:-11])\n",
    "print(s[::-1])\n",
    "print(s[::-2])\n",
    "print(s[::3])\n",
    "print(s[::-3])\n",
    "print(len(s))\n",
    "print(s[len(s)//2])"
   ]
  },
  {
   "cell_type": "code",
   "execution_count": 44,
   "metadata": {},
   "outputs": [
    {
     "name": "stdout",
     "output_type": "stream",
     "text": [
      "gop\n"
     ]
    }
   ],
   "source": [
    "print(s[-1::-8])"
   ]
  },
  {
   "cell_type": "markdown",
   "metadata": {},
   "source": [
    "# functions\n",
    "    syntax:\n",
    "        def functionname(): # function definition\n",
    "            //statements\n",
    "        \n",
    "        functionname()      # calling function\n",
    "        \n",
    "- without arguments and without return values\n",
    "- with arguments and without return values\n",
    "- without arguments and with return values\n",
    "- with arguments and with return values"
   ]
  },
  {
   "cell_type": "code",
   "execution_count": 47,
   "metadata": {},
   "outputs": [
    {
     "name": "stdout",
     "output_type": "stream",
     "text": [
      "30\n"
     ]
    }
   ],
   "source": [
    "# without arguments and without return values\n",
    "def add():\n",
    "    a=10\n",
    "    b=20\n",
    "    sum=a+b\n",
    "    print(sum)\n",
    "\n",
    "add()"
   ]
  },
  {
   "cell_type": "code",
   "execution_count": 48,
   "metadata": {},
   "outputs": [
    {
     "name": "stdout",
     "output_type": "stream",
     "text": [
      "30\n"
     ]
    }
   ],
   "source": [
    "# with arguments and without return values\n",
    "def add(a,b):\n",
    "    sum=a+b\n",
    "    print(sum)\n",
    "add(10,20)"
   ]
  },
  {
   "cell_type": "code",
   "execution_count": 49,
   "metadata": {},
   "outputs": [
    {
     "data": {
      "text/plain": [
       "30"
      ]
     },
     "execution_count": 49,
     "metadata": {},
     "output_type": "execute_result"
    }
   ],
   "source": [
    "# without arguments and with return values\n",
    "def add():\n",
    "    a=10\n",
    "    b=20\n",
    "    sum=a+b\n",
    "    return sum\n",
    "add()"
   ]
  },
  {
   "cell_type": "code",
   "execution_count": 50,
   "metadata": {},
   "outputs": [
    {
     "data": {
      "text/plain": [
       "30"
      ]
     },
     "execution_count": 50,
     "metadata": {},
     "output_type": "execute_result"
    }
   ],
   "source": [
    "# with arguments and with return values\n",
    "def add(a,b):\n",
    "    sum=a+b\n",
    "    return sum\n",
    "add(10,20)"
   ]
  },
  {
   "cell_type": "code",
   "execution_count": 51,
   "metadata": {},
   "outputs": [
    {
     "data": {
      "text/plain": [
       "False"
      ]
     },
     "execution_count": 51,
     "metadata": {},
     "output_type": "execute_result"
    }
   ],
   "source": [
    "# revers of a string\n",
    "def palin(s):\n",
    "    a=s[::-1]\n",
    "    if(a==s):\n",
    "        return True\n",
    "    else:\n",
    "        return False\n",
    "palin(\"python\")"
   ]
  },
  {
   "cell_type": "code",
   "execution_count": 53,
   "metadata": {},
   "outputs": [
    {
     "name": "stdout",
     "output_type": "stream",
     "text": [
      "547823649326498\n",
      "15\n"
     ]
    }
   ],
   "source": [
    "n=int(input())\n",
    "print(len(str(n)))"
   ]
  },
  {
   "cell_type": "code",
   "execution_count": 54,
   "metadata": {},
   "outputs": [
    {
     "name": "stdout",
     "output_type": "stream",
     "text": [
      "enter a number5\n"
     ]
    },
    {
     "data": {
      "text/plain": [
       "120"
      ]
     },
     "execution_count": 54,
     "metadata": {},
     "output_type": "execute_result"
    }
   ],
   "source": [
    "def fact():\n",
    "    a=int(input(\"enter a number\"))\n",
    "    f=1\n",
    "    for i in range(1,a+1):\n",
    "        f=f*i\n",
    "    return f\n",
    "fact()"
   ]
  },
  {
   "cell_type": "code",
   "execution_count": 1,
   "metadata": {},
   "outputs": [
    {
     "name": "stdout",
     "output_type": "stream",
     "text": [
      "5\n"
     ]
    },
    {
     "data": {
      "text/plain": [
       "120"
      ]
     },
     "execution_count": 1,
     "metadata": {},
     "output_type": "execute_result"
    }
   ],
   "source": [
    "def factorialrec(n):\n",
    "    if n>1:\n",
    "        return(n*factorialrec(n-1))\n",
    "    else:\n",
    "        return 1\n",
    "factorialrec(int(input()))"
   ]
  },
  {
   "cell_type": "code",
   "execution_count": 2,
   "metadata": {},
   "outputs": [
    {
     "name": "stdout",
     "output_type": "stream",
     "text": [
      "['__add__', '__class__', '__contains__', '__delattr__', '__dir__', '__doc__', '__eq__', '__format__', '__ge__', '__getattribute__', '__getitem__', '__getnewargs__', '__gt__', '__hash__', '__init__', '__init_subclass__', '__iter__', '__le__', '__len__', '__lt__', '__mod__', '__mul__', '__ne__', '__new__', '__reduce__', '__reduce_ex__', '__repr__', '__rmod__', '__rmul__', '__setattr__', '__sizeof__', '__str__', '__subclasshook__', 'capitalize', 'casefold', 'center', 'count', 'encode', 'endswith', 'expandtabs', 'find', 'format', 'format_map', 'index', 'isalnum', 'isalpha', 'isascii', 'isdecimal', 'isdigit', 'isidentifier', 'islower', 'isnumeric', 'isprintable', 'isspace', 'istitle', 'isupper', 'join', 'ljust', 'lower', 'lstrip', 'maketrans', 'partition', 'replace', 'rfind', 'rindex', 'rjust', 'rpartition', 'rsplit', 'rstrip', 'split', 'splitlines', 'startswith', 'strip', 'swapcase', 'title', 'translate', 'upper', 'zfill']"
     ]
    }
   ],
   "source": [
    "print(dir(str),end=\"\")"
   ]
  },
  {
   "cell_type": "code",
   "execution_count": 15,
   "metadata": {
    "scrolled": true
   },
   "outputs": [
    {
     "name": "stdout",
     "output_type": "stream",
     "text": [
      "surya\n",
      "True\n",
      "False\n",
      "True\n",
      "False\n"
     ]
    }
   ],
   "source": [
    "s=\"surya\"\n",
    "n=s.capitalize()\n",
    "print(n.casefold())\n",
    "print(s.islower())\n",
    "print(s.isupper())\n",
    "n=s.upper()\n",
    "print(n.isupper())\n",
    "print(s.istitle())\n"
   ]
  },
  {
   "cell_type": "code",
   "execution_count": 19,
   "metadata": {},
   "outputs": [
    {
     "name": "stdout",
     "output_type": "stream",
     "text": [
      "This Is Surya\n",
      "True\n",
      "True\n",
      "False\n",
      "False\n"
     ]
    }
   ],
   "source": [
    "s=\"This is surya\"\n",
    "print(s.title())\n",
    "print(s.startswith(\"T\"))\n",
    "print(s.endswith(\"a\"))\n",
    "print(s.startswith(\"t\"))\n",
    "print(s.endswith(\"A\"))"
   ]
  },
  {
   "cell_type": "code",
   "execution_count": 21,
   "metadata": {},
   "outputs": [
    {
     "data": {
      "text/plain": [
       "'       surya        '"
      ]
     },
     "execution_count": 21,
     "metadata": {},
     "output_type": "execute_result"
    }
   ],
   "source": [
    "s=\"surya\"\n",
    "s.center(20)"
   ]
  },
  {
   "cell_type": "code",
   "execution_count": 23,
   "metadata": {
    "scrolled": false
   },
   "outputs": [
    {
     "data": {
      "text/plain": [
       "'@@@@@@@surya@@@@@@@@'"
      ]
     },
     "execution_count": 23,
     "metadata": {},
     "output_type": "execute_result"
    }
   ],
   "source": [
    "s=\"surya\"\n",
    "s.center(20,'@')"
   ]
  },
  {
   "cell_type": "code",
   "execution_count": 33,
   "metadata": {
    "scrolled": true
   },
   "outputs": [
    {
     "name": "stdout",
     "output_type": "stream",
     "text": [
      "5\n",
      "b'haaiiiiaaa'\n"
     ]
    }
   ],
   "source": [
    "s=\"haaiiiiaaa\"\n",
    "print(s.count(\"a\",0,10))\n",
    "print(s.encode())\n"
   ]
  },
  {
   "cell_type": "code",
   "execution_count": 34,
   "metadata": {},
   "outputs": [
    {
     "data": {
      "text/plain": [
       "'h       e       l       l       o'"
      ]
     },
     "execution_count": 34,
     "metadata": {},
     "output_type": "execute_result"
    }
   ],
   "source": [
    "s=\"h\\te\\tl\\tl\\to\"\n",
    "s.expandtabs()"
   ]
  },
  {
   "cell_type": "code",
   "execution_count": 110,
   "metadata": {},
   "outputs": [
    {
     "name": "stdout",
     "output_type": "stream",
     "text": [
      "0\n",
      "5\n",
      "-1\n",
      "5\n",
      "0\n",
      "5\n",
      "5\n"
     ]
    }
   ],
   "source": [
    "s=\"asurya\"\n",
    "print(s.find(\"a\"))\n",
    "print(s.find(\"a\",3,6))\n",
    "print(s.find(\"z\"))\n",
    "print(s.rfind(\"a\",3,6))\n",
    "print(s.index(\"a\"))\n",
    "print(s.index(\"a\",3,6))\n",
    "#print(s.index(\"z\"))\n",
    "print(s.rindex(\"a\"))"
   ]
  },
  {
   "cell_type": "code",
   "execution_count": 61,
   "metadata": {},
   "outputs": [
    {
     "name": "stdout",
     "output_type": "stream",
     "text": [
      "This is surya and i am 25 years old\n",
      "This is surya and i am 25 years old\n",
      "This is 25 and i am surya years old\n"
     ]
    }
   ],
   "source": [
    "h=\"This is {name} and i am {age} years old\".format(name=\"surya\",age=\"25\")\n",
    "s=\"This is {} and i am {} years old\".format(\"surya\",\"25\")\n",
    "k=\"This is {1} and i am {0} years old\".format(\"surya\",\"25\")\n",
    "\n",
    "print(h)\n",
    "print(s)\n",
    "print(k)"
   ]
  },
  {
   "cell_type": "code",
   "execution_count": 3,
   "metadata": {},
   "outputs": [
    {
     "name": "stdout",
     "output_type": "stream",
     "text": [
      "add of 10 and 20 is 30\n"
     ]
    }
   ],
   "source": [
    "a=10\n",
    "b=20\n",
    "c=a+b\n",
    "print(\"add of %d and %d is %d\"%(a,b,c))"
   ]
  },
  {
   "cell_type": "code",
   "execution_count": 65,
   "metadata": {
    "scrolled": true
   },
   "outputs": [
    {
     "name": "stdout",
     "output_type": "stream",
     "text": [
      "True\n"
     ]
    }
   ],
   "source": [
    "s=\"surya0@/n\"\n",
    "print(s.isprintable())"
   ]
  },
  {
   "cell_type": "code",
   "execution_count": 71,
   "metadata": {
    "scrolled": true
   },
   "outputs": [
    {
     "name": "stdout",
     "output_type": "stream",
     "text": [
      "True\n",
      "False\n",
      "True\n"
     ]
    }
   ],
   "source": [
    "s=\"surya\"\n",
    "print(s.isalnum())\n",
    "print(s.isdigit())\n",
    "print(s.isalpha())"
   ]
  },
  {
   "cell_type": "code",
   "execution_count": 75,
   "metadata": {
    "scrolled": true
   },
   "outputs": [
    {
     "name": "stdout",
     "output_type": "stream",
     "text": [
      "True\n",
      "True\n",
      "True\n"
     ]
    }
   ],
   "source": [
    "s=\"123\"\n",
    "print(s.isdigit())\n",
    "print(s.isdecimal())\n",
    "print(s.isnumeric())"
   ]
  },
  {
   "cell_type": "code",
   "execution_count": 84,
   "metadata": {
    "scrolled": true
   },
   "outputs": [
    {
     "name": "stdout",
     "output_type": "stream",
     "text": [
      "False\n",
      "True\n"
     ]
    }
   ],
   "source": [
    "c='\\u00B2' # unicode\n",
    "print(c.isdecimal())\n",
    "print(c.isdigit())\n",
    "# print(s.isnumeric())"
   ]
  },
  {
   "cell_type": "code",
   "execution_count": 83,
   "metadata": {},
   "outputs": [
    {
     "name": "stdout",
     "output_type": "stream",
     "text": [
      "False\n",
      "False\n",
      "True\n"
     ]
    }
   ],
   "source": [
    "c='\\u00BD' #unicode\n",
    "print(c.isdecimal())\n",
    "print(c.isdigit())\n",
    "print(s.isnumeric())"
   ]
  },
  {
   "cell_type": "code",
   "execution_count": 86,
   "metadata": {
    "scrolled": true
   },
   "outputs": [
    {
     "data": {
      "text/plain": [
       "False"
      ]
     },
     "execution_count": 86,
     "metadata": {},
     "output_type": "execute_result"
    }
   ],
   "source": [
    "sp=\"hsgfjsd\"\n",
    "sp.isspace()"
   ]
  },
  {
   "cell_type": "code",
   "execution_count": 87,
   "metadata": {},
   "outputs": [
    {
     "data": {
      "text/plain": [
       "True"
      ]
     },
     "execution_count": 87,
     "metadata": {},
     "output_type": "execute_result"
    }
   ],
   "source": [
    "sp=\" \"\n",
    "sp.isspace()"
   ]
  },
  {
   "cell_type": "code",
   "execution_count": 91,
   "metadata": {},
   "outputs": [
    {
     "name": "stdout",
     "output_type": "stream",
     "text": [
      "surya\n"
     ]
    },
    {
     "data": {
      "text/plain": [
       "'surya     '"
      ]
     },
     "execution_count": 91,
     "metadata": {},
     "output_type": "execute_result"
    }
   ],
   "source": [
    "st=\"      surya     \"\n",
    "print(st.strip())\n",
    "st.rstrip()\n",
    "st.lstrip()"
   ]
  },
  {
   "cell_type": "code",
   "execution_count": 94,
   "metadata": {},
   "outputs": [
    {
     "data": {
      "text/plain": [
       "('', 'This', ' is surya')"
      ]
     },
     "execution_count": 94,
     "metadata": {},
     "output_type": "execute_result"
    }
   ],
   "source": [
    "s=\"This is surya\"\n",
    "s.partition(\"This\")"
   ]
  },
  {
   "cell_type": "code",
   "execution_count": 95,
   "metadata": {},
   "outputs": [
    {
     "data": {
      "text/plain": [
       "('This is surya and this ', 'is', ' venkat')"
      ]
     },
     "execution_count": 95,
     "metadata": {},
     "output_type": "execute_result"
    }
   ],
   "source": [
    "s=\"This is surya and this is venkat\"\n",
    "s.rpartition(\"is\")"
   ]
  },
  {
   "cell_type": "code",
   "execution_count": 96,
   "metadata": {},
   "outputs": [
    {
     "data": {
      "text/plain": [
       "'This is venkat'"
      ]
     },
     "execution_count": 96,
     "metadata": {},
     "output_type": "execute_result"
    }
   ],
   "source": [
    "s=\"This is surya\"\n",
    "s.replace(\"surya\",\"venkat\")"
   ]
  },
  {
   "cell_type": "code",
   "execution_count": 108,
   "metadata": {},
   "outputs": [
    {
     "data": {
      "text/plain": [
       "'hello hello haii how are you'"
      ]
     },
     "execution_count": 108,
     "metadata": {},
     "output_type": "execute_result"
    }
   ],
   "source": [
    "s=\"haii haii haii how are you\"\n",
    "s.replace(\"haii\",\"hello\",2)"
   ]
  },
  {
   "cell_type": "code",
   "execution_count": 111,
   "metadata": {},
   "outputs": [
    {
     "data": {
      "text/plain": [
       "'sUrYa'"
      ]
     },
     "execution_count": 111,
     "metadata": {},
     "output_type": "execute_result"
    }
   ],
   "source": [
    "s=\"SuRyA\"\n",
    "s.swapcase()"
   ]
  },
  {
   "cell_type": "code",
   "execution_count": 2,
   "metadata": {},
   "outputs": [
    {
     "name": "stdout",
     "output_type": "stream",
     "text": [
      "                  surya\n",
      "surya                         \n",
      "000000000000000surya\n"
     ]
    }
   ],
   "source": [
    "s=\"surya\"\n",
    "print(s.rjust(23))\n",
    "print(s.ljust(30))\n",
    "print(s.zfill(20))"
   ]
  },
  {
   "cell_type": "code",
   "execution_count": 121,
   "metadata": {},
   "outputs": [
    {
     "data": {
      "text/plain": [
       "['haii ', ' how are you']"
      ]
     },
     "execution_count": 121,
     "metadata": {},
     "output_type": "execute_result"
    }
   ],
   "source": [
    "s=\"haii students how are you\"\n",
    "s.split(\"students\")"
   ]
  },
  {
   "cell_type": "code",
   "execution_count": 122,
   "metadata": {},
   "outputs": [
    {
     "data": {
      "text/plain": [
       "('haii ', 'students', ' how are you')"
      ]
     },
     "execution_count": 122,
     "metadata": {},
     "output_type": "execute_result"
    }
   ],
   "source": [
    "s=\"haii students how are you\"\n",
    "s.partition(\"students\")"
   ]
  },
  {
   "cell_type": "code",
   "execution_count": 124,
   "metadata": {},
   "outputs": [
    {
     "data": {
      "text/plain": [
       "['haii students how', ' are you']"
      ]
     },
     "execution_count": 124,
     "metadata": {},
     "output_type": "execute_result"
    }
   ],
   "source": [
    "s=\"haii students how\\n are you\"\n",
    "s.splitlines()"
   ]
  },
  {
   "cell_type": "code",
   "execution_count": 125,
   "metadata": {},
   "outputs": [
    {
     "data": {
      "text/plain": [
       "['haii students how\\n', ' are you']"
      ]
     },
     "execution_count": 125,
     "metadata": {},
     "output_type": "execute_result"
    }
   ],
   "source": [
    "s=\"haii students how\\n are you\"\n",
    "s.splitlines(True)"
   ]
  },
  {
   "cell_type": "code",
   "execution_count": 126,
   "metadata": {},
   "outputs": [
    {
     "name": "stdout",
     "output_type": "stream",
     "text": [
      "haii friends how are you\n"
     ]
    }
   ],
   "source": [
    "s=\"haii students how are you\"\n",
    "s2=s.split(\"students\")\n",
    "s3=\"friends\".join(s2)\n",
    "print(s3)\n"
   ]
  },
  {
   "cell_type": "code",
   "execution_count": null,
   "metadata": {},
   "outputs": [],
   "source": [
    "# Datastructues\n",
    "    Collection of multiple data\n",
    "    - list\n",
    "    - tuple\n",
    "    - set\n",
    "    - dictionary"
   ]
  },
  {
   "cell_type": "markdown",
   "metadata": {},
   "source": [
    "list:\n",
    "    collection of multiple (or) different data\n",
    "    \n",
    "    -It is ordered and indexed\n",
    "    -mutable-we can change values or elements\n",
    "    -It allow duplicate values\n",
    "    -It is repersented using - []\n",
    "    \n",
    "    \n",
    "    \n",
    "    "
   ]
  },
  {
   "cell_type": "code",
   "execution_count": 10,
   "metadata": {},
   "outputs": [
    {
     "name": "stdout",
     "output_type": "stream",
     "text": [
      "[10, 20]\n",
      "40\n"
     ]
    }
   ],
   "source": [
    "list=[10,20,30,40]\n",
    "print(list[0:2])\n",
    "print(list[-1])"
   ]
  },
  {
   "cell_type": "code",
   "execution_count": 3,
   "metadata": {},
   "outputs": [
    {
     "name": "stdout",
     "output_type": "stream",
     "text": [
      "[22, 20.05, 'surya']\n",
      "['surya', 22]\n"
     ]
    }
   ],
   "source": [
    "list=[\"surya\",20.05,22]\n",
    "print(list[::-1])\n",
    "print(list[::2])"
   ]
  },
  {
   "cell_type": "code",
   "execution_count": 14,
   "metadata": {},
   "outputs": [
    {
     "name": "stdout",
     "output_type": "stream",
     "text": [
      "['__add__', '__class__', '__contains__', '__delattr__', '__delitem__', '__dir__', '__doc__', '__eq__', '__format__', '__ge__', '__getattribute__', '__getitem__', '__gt__', '__hash__', '__iadd__', '__imul__', '__init__', '__init_subclass__', '__iter__', '__le__', '__len__', '__lt__', '__mul__', '__ne__', '__new__', '__reduce__', '__reduce_ex__', '__repr__', '__reversed__', '__rmul__', '__setattr__', '__setitem__', '__sizeof__', '__str__', '__subclasshook__', 'append', 'clear', 'copy', 'count', 'extend', 'index', 'insert', 'pop', 'remove', 'reverse', 'sort']"
     ]
    }
   ],
   "source": [
    "print(dir(list),end=\"\")"
   ]
  },
  {
   "cell_type": "code",
   "execution_count": 15,
   "metadata": {},
   "outputs": [
    {
     "name": "stdout",
     "output_type": "stream",
     "text": [
      "[10, 20, 30, 40, 50]\n"
     ]
    }
   ],
   "source": [
    "list1=[10,20,30,40]\n",
    "list1.append(50)\n",
    "print(list1)"
   ]
  },
  {
   "cell_type": "code",
   "execution_count": 16,
   "metadata": {},
   "outputs": [
    {
     "name": "stdout",
     "output_type": "stream",
     "text": [
      "[22, 33, 44, 55, [10, 20, 30, 40, 50]]\n"
     ]
    }
   ],
   "source": [
    "list2=[22,33,44,55]\n",
    "list2.append(list1)\n",
    "print(list2)"
   ]
  },
  {
   "cell_type": "code",
   "execution_count": 18,
   "metadata": {},
   "outputs": [
    {
     "name": "stdout",
     "output_type": "stream",
     "text": [
      "[]\n"
     ]
    }
   ],
   "source": [
    "l3=[]\n",
    "print(l3)"
   ]
  },
  {
   "cell_type": "code",
   "execution_count": 24,
   "metadata": {},
   "outputs": [
    {
     "name": "stdout",
     "output_type": "stream",
     "text": [
      "[10, 20, 30, 40, 50]\n"
     ]
    }
   ],
   "source": [
    "l3=list1.copy()\n",
    "print(l3)"
   ]
  },
  {
   "cell_type": "code",
   "execution_count": 25,
   "metadata": {},
   "outputs": [
    {
     "name": "stdout",
     "output_type": "stream",
     "text": [
      "[22, 33, 44, 55, [10, 20, 30, 40, 50]]\n"
     ]
    }
   ],
   "source": [
    "l3=list2.copy()\n",
    "print(l3)"
   ]
  },
  {
   "cell_type": "code",
   "execution_count": 32,
   "metadata": {},
   "outputs": [
    {
     "name": "stdout",
     "output_type": "stream",
     "text": [
      "2\n",
      "4\n"
     ]
    }
   ],
   "source": [
    "l4=[1,1,2,3,4,4,4,\"surya\",\"surya\"]\n",
    "print(l4.count(\"surya\"))\n",
    "print(l4.index(4))"
   ]
  },
  {
   "cell_type": "code",
   "execution_count": 33,
   "metadata": {},
   "outputs": [
    {
     "name": "stdout",
     "output_type": "stream",
     "text": [
      "[1, 2, 'surya', 3]\n"
     ]
    }
   ],
   "source": [
    "l5=[1,2,3]\n",
    "l5.insert(2,\"surya\")\n",
    "print(l5)"
   ]
  },
  {
   "cell_type": "code",
   "execution_count": 6,
   "metadata": {},
   "outputs": [
    {
     "name": "stdout",
     "output_type": "stream",
     "text": [
      "[3, 5]\n"
     ]
    }
   ],
   "source": [
    "l6=[3,4,5]\n",
    "l6.remove(4)\n",
    "print(l6)"
   ]
  },
  {
   "cell_type": "code",
   "execution_count": 35,
   "metadata": {},
   "outputs": [
    {
     "name": "stdout",
     "output_type": "stream",
     "text": [
      "[44, 33, 2.9, 'venkat', 22]\n"
     ]
    }
   ],
   "source": [
    "l7=[22,\"venkat\",2.9,33,44]\n",
    "l7.reverse()\n",
    "print(l7)"
   ]
  },
  {
   "cell_type": "code",
   "execution_count": 37,
   "metadata": {},
   "outputs": [
    {
     "name": "stdout",
     "output_type": "stream",
     "text": [
      "[22, 'venkat', 2.9, 33]\n"
     ]
    }
   ],
   "source": [
    "l7=[22,\"venkat\",2.9,33,44]\n",
    "l7.pop()\n",
    "print(l7)"
   ]
  },
  {
   "cell_type": "code",
   "execution_count": 38,
   "metadata": {},
   "outputs": [
    {
     "name": "stdout",
     "output_type": "stream",
     "text": [
      "[]\n"
     ]
    }
   ],
   "source": [
    "l7=[22,\"venkat\",2.9,33,44]\n",
    "l7.clear()\n",
    "print(l7)"
   ]
  },
  {
   "cell_type": "code",
   "execution_count": 42,
   "metadata": {},
   "outputs": [],
   "source": [
    "l8=[1,7,3,5,2,33,9,30.5]\n",
    "l8.sort()"
   ]
  },
  {
   "cell_type": "code",
   "execution_count": 43,
   "metadata": {},
   "outputs": [
    {
     "data": {
      "text/plain": [
       "[1, 2, 3, 5, 7, 9, 30.5, 33]"
      ]
     },
     "execution_count": 43,
     "metadata": {},
     "output_type": "execute_result"
    }
   ],
   "source": [
    "l8"
   ]
  },
  {
   "cell_type": "markdown",
   "metadata": {},
   "source": [
    "Tuple:\n",
    "    collection of multiple data\n",
    "    \n",
    "    -ordered and indexed\n",
    "    -immutable-we cannot change values\n",
    "    -allow duplicate values\n",
    "    -It is represented using-()\n",
    "    \n",
    "methods:\n",
    "    index\n",
    "    count"
   ]
  },
  {
   "cell_type": "code",
   "execution_count": 44,
   "metadata": {},
   "outputs": [
    {
     "name": "stdout",
     "output_type": "stream",
     "text": [
      "['__add__', '__class__', '__contains__', '__delattr__', '__dir__', '__doc__', '__eq__', '__format__', '__ge__', '__getattribute__', '__getitem__', '__getnewargs__', '__gt__', '__hash__', '__init__', '__init_subclass__', '__iter__', '__le__', '__len__', '__lt__', '__mul__', '__ne__', '__new__', '__reduce__', '__reduce_ex__', '__repr__', '__rmul__', '__setattr__', '__sizeof__', '__str__', '__subclasshook__', 'count', 'index']"
     ]
    }
   ],
   "source": [
    "print(dir(tuple),end=\"\")"
   ]
  },
  {
   "cell_type": "code",
   "execution_count": 45,
   "metadata": {},
   "outputs": [
    {
     "name": "stdout",
     "output_type": "stream",
     "text": [
      "['__and__', '__class__', '__contains__', '__delattr__', '__dir__', '__doc__', '__eq__', '__format__', '__ge__', '__getattribute__', '__gt__', '__hash__', '__iand__', '__init__', '__init_subclass__', '__ior__', '__isub__', '__iter__', '__ixor__', '__le__', '__len__', '__lt__', '__ne__', '__new__', '__or__', '__rand__', '__reduce__', '__reduce_ex__', '__repr__', '__ror__', '__rsub__', '__rxor__', '__setattr__', '__sizeof__', '__str__', '__sub__', '__subclasshook__', '__xor__', 'add', 'clear', 'copy', 'difference', 'difference_update', 'discard', 'intersection', 'intersection_update', 'isdisjoint', 'issubset', 'issuperset', 'pop', 'remove', 'symmetric_difference', 'symmetric_difference_update', 'union', 'update']"
     ]
    }
   ],
   "source": [
    "print(dir(set),end=\"\")"
   ]
  },
  {
   "cell_type": "code",
   "execution_count": 57,
   "metadata": {},
   "outputs": [
    {
     "data": {
      "text/plain": [
       "(1, 2, 3, 4, 4, 'e', 4)"
      ]
     },
     "execution_count": 57,
     "metadata": {},
     "output_type": "execute_result"
    }
   ],
   "source": [
    "s=(1,2,3,4,4,'e',4)\n",
    "s"
   ]
  },
  {
   "cell_type": "code",
   "execution_count": 58,
   "metadata": {},
   "outputs": [],
   "source": [
    "del(s)"
   ]
  },
  {
   "cell_type": "code",
   "execution_count": 59,
   "metadata": {},
   "outputs": [
    {
     "ename": "NameError",
     "evalue": "name 's' is not defined",
     "output_type": "error",
     "traceback": [
      "\u001b[1;31m---------------------------------------------------------------------------\u001b[0m",
      "\u001b[1;31mNameError\u001b[0m                                 Traceback (most recent call last)",
      "\u001b[1;32m<ipython-input-59-ded5ba42480f>\u001b[0m in \u001b[0;36m<module>\u001b[1;34m\u001b[0m\n\u001b[1;32m----> 1\u001b[1;33m \u001b[0ms\u001b[0m\u001b[1;33m\u001b[0m\u001b[1;33m\u001b[0m\u001b[0m\n\u001b[0m",
      "\u001b[1;31mNameError\u001b[0m: name 's' is not defined"
     ]
    }
   ],
   "source": [
    "s"
   ]
  },
  {
   "cell_type": "code",
   "execution_count": null,
   "metadata": {},
   "outputs": [],
   "source": [
    "#sets\n",
    "- sets is also collection of different datatypes\n",
    "- it is represented {}\n",
    "- it does not allow duplicates\n",
    "- it does not follow order\n",
    "- it is mutable"
   ]
  },
  {
   "cell_type": "code",
   "execution_count": 69,
   "metadata": {
    "scrolled": true
   },
   "outputs": [
    {
     "name": "stdout",
     "output_type": "stream",
     "text": [
      "{1, 2, 3.4, 'st1', 5, 'str2'}\n"
     ]
    },
    {
     "data": {
      "text/plain": [
       "{1, 2, 3.4, 5, 'st1', 'str2'}"
      ]
     },
     "execution_count": 69,
     "metadata": {},
     "output_type": "execute_result"
    }
   ],
   "source": [
    "s1={1,2,3.4,'st1',5,'str2',1,1,1}\n",
    "print(s1)\n",
    "s1"
   ]
  },
  {
   "cell_type": "code",
   "execution_count": null,
   "metadata": {},
   "outputs": [],
   "source": [
    "# li=[1,2,3,7,7,7,9,9,9]"
   ]
  },
  {
   "cell_type": "code",
   "execution_count": 9,
   "metadata": {},
   "outputs": [
    {
     "data": {
      "text/plain": [
       "7"
      ]
     },
     "execution_count": 9,
     "metadata": {},
     "output_type": "execute_result"
    }
   ],
   "source": [
    "li=[1,2,3,7,7,7,9,9,9]\n",
    "# li=[input()]\n",
    "li.sort()\n",
    "a=li[8]\n",
    "b=li.index(a)\n",
    "li[b-1]\n"
   ]
  },
  {
   "cell_type": "code",
   "execution_count": 84,
   "metadata": {},
   "outputs": [
    {
     "name": "stdout",
     "output_type": "stream",
     "text": [
      "7\n"
     ]
    }
   ],
   "source": [
    "li=[1,2,3,7,7,7,9,9,9]\n",
    "el=[]\n",
    "for i in li:\n",
    "    if i not in el:\n",
    "        el.append(i)\n",
    "print(el[-2])\n",
    "\n",
    "## li=[1,3,4,'a','b','c'] # avg"
   ]
  },
  {
   "cell_type": "code",
   "execution_count": 96,
   "metadata": {},
   "outputs": [
    {
     "name": "stdout",
     "output_type": "stream",
     "text": [
      "2.6666666666666665\n"
     ]
    }
   ],
   "source": [
    "li=[1,3,4,'a','b','c']\n",
    "s=c=0\n",
    "for i in li:\n",
    "    if type(i)==int:\n",
    "        s=s+i\n",
    "        c=c+1\n",
    "print(s/c)\n",
    "        "
   ]
  },
  {
   "cell_type": "code",
   "execution_count": 102,
   "metadata": {
    "scrolled": true
   },
   "outputs": [
    {
     "name": "stdout",
     "output_type": "stream",
     "text": [
      "2.6666666666666665\n"
     ]
    }
   ],
   "source": [
    "li=[1,3,4,'a','b','c']\n",
    "li=str(li)\n",
    "s=c=0\n",
    "for i in li:\n",
    "    if i.isdigit():\n",
    "        s=s+int(i)\n",
    "        c=c+1\n",
    "print(s/c)"
   ]
  },
  {
   "cell_type": "code",
   "execution_count": 121,
   "metadata": {},
   "outputs": [
    {
     "data": {
      "text/plain": [
       "'egellocstinA'"
      ]
     },
     "execution_count": 121,
     "metadata": {},
     "output_type": "execute_result"
    }
   ],
   "source": [
    "s1='A N I T S C O L L E G E'\n",
    "#  egellocstinA\n",
    "s1=s1.capitalize()\n",
    "#s1=s1[-1::-2]\n",
    "#l=len(s1)\n",
    "s1[::-1].replace(' ','')"
   ]
  },
  {
   "cell_type": "code",
   "execution_count": 101,
   "metadata": {
    "collapsed": true
   },
   "outputs": [
    {
     "ename": "TypeError",
     "evalue": "unsupported operand type(s) for +: 'int' and 'str'",
     "output_type": "error",
     "traceback": [
      "\u001b[1;31m---------------------------------------------------------------------------\u001b[0m",
      "\u001b[1;31mTypeError\u001b[0m                                 Traceback (most recent call last)",
      "\u001b[1;32m<ipython-input-101-d3bd1e37a107>\u001b[0m in \u001b[0;36m<module>\u001b[1;34m\u001b[0m\n\u001b[1;32m----> 1\u001b[1;33m \u001b[1;36m1\u001b[0m\u001b[1;33m+\u001b[0m\u001b[1;34m'1'\u001b[0m\u001b[1;33m\u001b[0m\u001b[1;33m\u001b[0m\u001b[0m\n\u001b[0m",
      "\u001b[1;31mTypeError\u001b[0m: unsupported operand type(s) for +: 'int' and 'str'"
     ]
    }
   ],
   "source": [
    "1+'1'"
   ]
  },
  {
   "cell_type": "code",
   "execution_count": null,
   "metadata": {},
   "outputs": [],
   "source": []
  },
  {
   "cell_type": "markdown",
   "metadata": {},
   "source": [
    "##  Operators\n",
    "- Arthematic operator (+,-,*,/,//,%,**)\n",
    "- Assaignment operator(=,+=,-=,*=,/=,//=,**=,%=)\n",
    "- Relational operator(==,<=,>=,<,>)\n",
    "- Bitwise (~,&,|,>>,<<)\n",
    "- logical (and,or,not)\n",
    "- Membership (in,not in)\n",
    "- indentity operator(is,is not)\n"
   ]
  },
  {
   "cell_type": "code",
   "execution_count": 78,
   "metadata": {},
   "outputs": [
    {
     "name": "stdout",
     "output_type": "stream",
     "text": [
      "['False', 'None', 'True', 'and', 'as', 'assert', 'async', 'await', 'break', 'class', 'continue', 'def', 'del', 'elif', 'else', 'except', 'finally', 'for', 'from', 'global', 'if', 'import', 'in', 'is', 'lambda', 'nonlocal', 'not', 'or', 'pass', 'raise', 'return', 'try', 'while', 'with', 'yield']"
     ]
    }
   ],
   "source": [
    "import keyword\n",
    "print(keyword.kwlist,end=\"\")"
   ]
  },
  {
   "cell_type": "code",
   "execution_count": null,
   "metadata": {},
   "outputs": [],
   "source": []
  }
 ],
 "metadata": {
  "kernelspec": {
   "display_name": "Python 3",
   "language": "python",
   "name": "python3"
  },
  "language_info": {
   "codemirror_mode": {
    "name": "ipython",
    "version": 3
   },
   "file_extension": ".py",
   "mimetype": "text/x-python",
   "name": "python",
   "nbconvert_exporter": "python",
   "pygments_lexer": "ipython3",
   "version": "3.7.3"
  }
 },
 "nbformat": 4,
 "nbformat_minor": 2
}
